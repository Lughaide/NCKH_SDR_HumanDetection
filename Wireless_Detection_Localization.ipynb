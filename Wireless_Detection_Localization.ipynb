{
  "nbformat": 4,
  "nbformat_minor": 0,
  "metadata": {
    "colab": {
      "name": "Wireless_Detection_Localization.ipynb",
      "provenance": [],
      "collapsed_sections": [
        "BYmfviFgKF40"
      ],
      "toc_visible": true,
      "mount_file_id": "1G1rD00d1ywO6Mu1xaN75nd7Ug6wBpaKi",
      "authorship_tag": "ABX9TyP9qJtfZQMpwVkOPIQLoZ0u",
      "include_colab_link": true
    },
    "kernelspec": {
      "name": "python3",
      "display_name": "Python 3"
    },
    "language_info": {
      "name": "python"
    },
    "accelerator": "GPU",
    "gpuClass": "standard"
  },
  "cells": [
    {
      "cell_type": "markdown",
      "metadata": {
        "id": "view-in-github",
        "colab_type": "text"
      },
      "source": [
        "<a href=\"https://colab.research.google.com/github/Lughaide/NCKH_SDR_HumanDetection/blob/main/Wireless_Detection_Localization.ipynb\" target=\"_parent\"><img src=\"https://colab.research.google.com/assets/colab-badge.svg\" alt=\"Open In Colab\"/></a>"
      ]
    },
    {
      "cell_type": "markdown",
      "source": [
        "# Data Processing"
      ],
      "metadata": {
        "id": "ya3yIttF7lpD"
      }
    },
    {
      "cell_type": "markdown",
      "source": [
        "## Loading data from Drive"
      ],
      "metadata": {
        "id": "tyHGsv_E7qB1"
      }
    },
    {
      "cell_type": "code",
      "execution_count": null,
      "metadata": {
        "colab": {
          "base_uri": "https://localhost:8080/"
        },
        "id": "SIgjXVWc1jS6",
        "outputId": "bf2f8afc-d8f2-4150-cc0e-6b160146aed6"
      },
      "outputs": [
        {
          "output_type": "stream",
          "name": "stdout",
          "text": [
            "Mounted at /content/drive\n"
          ]
        }
      ],
      "source": [
        "# Mount Drive\n",
        "from google.colab import drive\n",
        "drive.mount('/content/drive')"
      ]
    },
    {
      "cell_type": "code",
      "source": [
        "# Adding path\n",
        "root_path = '/content/drive/MyDrive/CSI_Data/CSI_Data'"
      ],
      "metadata": {
        "id": "DbcQd5P17oKp"
      },
      "execution_count": null,
      "outputs": []
    },
    {
      "cell_type": "code",
      "source": [
        "!ls $root_path"
      ],
      "metadata": {
        "colab": {
          "base_uri": "https://localhost:8080/"
        },
        "id": "CqimBQIP85TI",
        "outputId": "299fd9d9-7289-4a46-d43a-4367418d8704"
      },
      "execution_count": null,
      "outputs": [
        {
          "output_type": "stream",
          "name": "stdout",
          "text": [
            "csiview.py  Empty  Lab_floorplan.png  Presence\tPresence_Cleaned  runscript.py\n"
          ]
        }
      ]
    },
    {
      "cell_type": "markdown",
      "source": [
        "## CSI Data plotting"
      ],
      "metadata": {
        "id": "28qOoFy4Xrld"
      }
    },
    {
      "cell_type": "code",
      "source": [
        "import matplotlib.pyplot as plt"
      ],
      "metadata": {
        "id": "gF08fjv2ss2l"
      },
      "execution_count": null,
      "outputs": []
    },
    {
      "cell_type": "code",
      "source": [
        "def plot_csi_data(csi_data):\n",
        "  plt.figure()\n",
        "  plt.title(\"CSI data\")\n",
        "  plt.plot(csi_data)\n",
        "  plt.show()"
      ],
      "metadata": {
        "id": "c13rfscqsu3U"
      },
      "execution_count": null,
      "outputs": []
    },
    {
      "cell_type": "markdown",
      "source": [
        "## Creating Train/Test dataset"
      ],
      "metadata": {
        "id": "LzeX2lkZJv8D"
      }
    },
    {
      "cell_type": "code",
      "source": [
        "# Importing needed libraries\n",
        "import os\n",
        "import numpy as np"
      ],
      "metadata": {
        "id": "K-CmHJX8BtbO"
      },
      "execution_count": null,
      "outputs": []
    },
    {
      "cell_type": "code",
      "source": [
        "# Creating arrays: Detection\n",
        "train_labels_DT = []\n",
        "train_samples_DT = []\n",
        "\n",
        "test_labels_DT = []\n",
        "test_samples_DT = []\n",
        "\n",
        "# Creating arrays: Localization\n",
        "train_labels_LC = []\n",
        "train_samples_LC = []\n",
        "\n",
        "test_labels_LC = []\n",
        "test_samples_LC = []"
      ],
      "metadata": {
        "id": "-D7PxjULBd0A"
      },
      "execution_count": null,
      "outputs": []
    },
    {
      "cell_type": "code",
      "source": [
        "# Creating temporary arrays\n",
        "samples_temp_1 = []\n",
        "labels_temp_1 = []\n",
        "\n",
        "samples_temp_2 = []\n",
        "labels_temp_2 = []"
      ],
      "metadata": {
        "id": "cfHrSGNQDe32"
      },
      "execution_count": null,
      "outputs": []
    },
    {
      "cell_type": "code",
      "source": [
        "# Removing unneeded subcarriers\n",
        "sub_del = list(range(0, 6)) + [32] + list(range(59, 64))\n",
        "sub_del"
      ],
      "metadata": {
        "colab": {
          "base_uri": "https://localhost:8080/"
        },
        "id": "ggjurweQVhcP",
        "outputId": "08719ec7-9abe-4ac5-b8f5-3ae01374c22e"
      },
      "execution_count": null,
      "outputs": [
        {
          "output_type": "execute_result",
          "data": {
            "text/plain": [
              "[0, 1, 2, 3, 4, 5, 32, 59, 60, 61, 62, 63]"
            ]
          },
          "metadata": {},
          "execution_count": 9
        }
      ]
    },
    {
      "cell_type": "markdown",
      "source": [
        "### Data with no human presence"
      ],
      "metadata": {
        "id": "ZHiq7h-unolP"
      }
    },
    {
      "cell_type": "code",
      "source": [
        "# Setting path to folders\n",
        "empty_raw = root_path+\"/Empty/\""
      ],
      "metadata": {
        "id": "ql_NtwWZnG27"
      },
      "execution_count": null,
      "outputs": []
    },
    {
      "cell_type": "code",
      "source": [
        "# Preparing data\n",
        "for count, filename in enumerate(os.listdir(empty_raw)):\n",
        "  # Read each file as a numpy array\n",
        "  f = np.fromfile(open(empty_raw + filename), dtype=np.complex64)\n",
        "\n",
        "  # Reshape into suitable shape and remove subcarriers\n",
        "  new_arr = abs(np.reshape(f, (-1, 64)))\n",
        "  new_arr = np.delete(new_arr, sub_del, 1)\n",
        "\n",
        "  # Reduce array size by 10\n",
        "  new_arr = new_arr[0:len(new_arr):10]\n",
        "\n",
        "  # Debug to check result\n",
        "  # print(filename, \":\", new_arr.shape)\n",
        "\n",
        "  # Append to temp array\n",
        "  for count2, data in enumerate(np.array_split(new_arr, 4)):\n",
        "    # Detection data\n",
        "    samples_temp_1.append(data)\n",
        "    # Generating more data for detection: reversing existing data\n",
        "    samples_temp_1.append(data[::-1])\n",
        "\n",
        "    # Localization data\n",
        "    samples_temp_2.append(data)\n",
        "    # Generating more data for detection: reversing existing data\n",
        "    samples_temp_2.append(data[::-1])\n",
        "\n",
        "  # Adding labels: 0 is empty\n",
        "    labels_temp_1.append(0)\n",
        "    labels_temp_1.append(0)\n",
        "\n",
        "    labels_temp_2.append(0)\n",
        "    labels_temp_2.append(0)"
      ],
      "metadata": {
        "id": "C9M3inOF9_6y"
      },
      "execution_count": null,
      "outputs": []
    },
    {
      "cell_type": "markdown",
      "source": [
        "### Data with human presence"
      ],
      "metadata": {
        "id": "dF0QkJiQnt8J"
      }
    },
    {
      "cell_type": "code",
      "source": [
        "# Manually selecting folders for data\n",
        "list_of_folders = ['Area1', 'Area2', 'Area3', 'Area4', 'Area5', 'Area6']\n",
        "list_of_folders"
      ],
      "metadata": {
        "colab": {
          "base_uri": "https://localhost:8080/"
        },
        "id": "Af_FwXKUZ7lg",
        "outputId": "05fd11b4-db41-4524-cffe-faa773664622"
      },
      "execution_count": null,
      "outputs": [
        {
          "output_type": "execute_result",
          "data": {
            "text/plain": [
              "['Area1', 'Area2', 'Area3', 'Area4', 'Area5', 'Area6']"
            ]
          },
          "metadata": {},
          "execution_count": 12
        }
      ]
    },
    {
      "cell_type": "code",
      "source": [
        "# Setting paths to folders\n",
        "human_raw = root_path+\"/Presence_Cleaned/Presence_Data/\""
      ],
      "metadata": {
        "id": "zH7llrYGn2Lv"
      },
      "execution_count": null,
      "outputs": []
    },
    {
      "cell_type": "code",
      "source": [
        "# Creating merged areas\n",
        "def define_zones(foldername):\n",
        "  return {\n",
        "      'Area1': 1, 'Area2': 2,\n",
        "      'Area3': 1, 'Area4': 2,\n",
        "      'Area5': 1, 'Area6': 2\n",
        "  }.get(foldername, -1)"
      ],
      "metadata": {
        "id": "9s3et2AvI98Z"
      },
      "execution_count": null,
      "outputs": []
    },
    {
      "cell_type": "code",
      "source": [
        "# Using clean data\n",
        "# # Preparing data\n",
        "for foldername in os.listdir(human_raw):\n",
        "  if os.path.isdir(human_raw+foldername):\n",
        "    if foldername in list_of_folders:\n",
        "      print(\"-- Getting data from folder: \" + foldername)\n",
        "      for count, filename in enumerate(os.listdir(human_raw+foldername)):\n",
        "        # Read each file as a numpy array\n",
        "        data = np.load(human_raw + foldername + \"/\" + filename)\n",
        "        # Reduce array size by 10\n",
        "        data = data[0:len(data):10]\n",
        "\n",
        "        # Detection data\n",
        "        samples_temp_1.append(data)\n",
        "        labels_temp_1.append(1)\n",
        "\n",
        "        # Localization data\n",
        "        samples_temp_2.append(data)\n",
        "        labels_temp_2.append(define_zones(foldername))"
      ],
      "metadata": {
        "colab": {
          "base_uri": "https://localhost:8080/"
        },
        "id": "EWu8uSeSEwqj",
        "outputId": "c1accf44-fdca-43fb-b120-8a1cbbb093c8"
      },
      "execution_count": null,
      "outputs": [
        {
          "output_type": "stream",
          "name": "stdout",
          "text": [
            "-- Getting data from folder: Area1\n",
            "-- Getting data from folder: Area3\n",
            "-- Getting data from folder: Area2\n",
            "-- Getting data from folder: Area5\n",
            "-- Getting data from folder: Area6\n",
            "-- Getting data from folder: Area4\n"
          ]
        }
      ]
    },
    {
      "cell_type": "markdown",
      "source": [
        "## Checking dataset size & convert to numpy array"
      ],
      "metadata": {
        "id": "bgkUHFpIH081"
      }
    },
    {
      "cell_type": "code",
      "source": [
        "# Checking size of dataset\n",
        "# Detection\n",
        "print(len(samples_temp_1))\n",
        "print(len(labels_temp_1))\n",
        "\n",
        "# Localization\n",
        "print(len(samples_temp_2))\n",
        "print(len(labels_temp_2))"
      ],
      "metadata": {
        "colab": {
          "base_uri": "https://localhost:8080/"
        },
        "id": "KUNGmve8YRYG",
        "outputId": "68a1ba50-1bec-4b7e-9194-4936427a3140"
      },
      "execution_count": null,
      "outputs": [
        {
          "output_type": "stream",
          "name": "stdout",
          "text": [
            "680\n",
            "680\n",
            "680\n",
            "680\n"
          ]
        }
      ]
    },
    {
      "cell_type": "code",
      "source": [
        "# Convert array to numpy array\n",
        "temp_samples_1 = np.array(samples_temp_1)\n",
        "temp_labels_1 = np.array(labels_temp_1)\n",
        "\n",
        "temp_samples_2 = np.array(samples_temp_2)\n",
        "temp_labels_2 = np.array(labels_temp_2)"
      ],
      "metadata": {
        "id": "bnFja_PCGWmu"
      },
      "execution_count": null,
      "outputs": []
    },
    {
      "cell_type": "code",
      "source": [
        "# Checking array shapes\n",
        "print(temp_samples_1.shape, temp_labels_1.shape)\n",
        "print(temp_samples_2.shape, temp_labels_2.shape)\n",
        "\n",
        "# Format: \n",
        "#   samples: (sample_count, time_stamp, subcarrier_count)\n",
        "#   labels: (label)"
      ],
      "metadata": {
        "colab": {
          "base_uri": "https://localhost:8080/"
        },
        "id": "H6Glni-RGmVh",
        "outputId": "95832e6f-80cb-45f1-8eb0-717038689d89"
      },
      "execution_count": null,
      "outputs": [
        {
          "output_type": "stream",
          "name": "stdout",
          "text": [
            "(680, 256, 52) (680,)\n",
            "(680, 256, 52) (680,)\n"
          ]
        }
      ]
    },
    {
      "cell_type": "code",
      "source": [
        "# Setting input size for machine learning model input\n",
        "input_size = (temp_samples_1.shape[1], temp_samples_1.shape[2])\n",
        "print(input_size)"
      ],
      "metadata": {
        "colab": {
          "base_uri": "https://localhost:8080/"
        },
        "id": "luGdkGADcoZf",
        "outputId": "abb3c96e-f5de-464e-e574-2995aad30156"
      },
      "execution_count": null,
      "outputs": [
        {
          "output_type": "stream",
          "name": "stdout",
          "text": [
            "(256, 52)\n"
          ]
        }
      ]
    },
    {
      "cell_type": "markdown",
      "source": [
        "## Splitting Train/Test dataset"
      ],
      "metadata": {
        "id": "UxgRPNdRrWsH"
      }
    },
    {
      "cell_type": "code",
      "source": [
        "from sklearn.model_selection import train_test_split\n",
        "\n",
        "# Creating dataset for both models. Ratio: 80/20, random state: 42\n",
        "train_samples_DT, test_samples_DT, train_labels_DT, test_labels_DT = train_test_split(temp_samples_1, temp_labels_1, test_size=0.20, random_state=42)\n",
        "train_samples_LC, test_samples_LC, train_labels_LC, test_labels_LC = train_test_split(temp_samples_2, temp_labels_2, test_size=0.20, random_state=42)"
      ],
      "metadata": {
        "id": "7X7qBjUXq74d"
      },
      "execution_count": null,
      "outputs": []
    },
    {
      "cell_type": "code",
      "source": [
        "# Checking dataset size\n",
        "print(len(train_labels_DT))\n",
        "print(len(test_labels_DT))\n",
        "\n",
        "print(len(train_labels_LC))\n",
        "print(len(test_labels_LC))"
      ],
      "metadata": {
        "colab": {
          "base_uri": "https://localhost:8080/"
        },
        "id": "YVeLdAheyyJf",
        "outputId": "be518781-0a3b-4255-b895-62f53a109085"
      },
      "execution_count": null,
      "outputs": [
        {
          "output_type": "stream",
          "name": "stdout",
          "text": [
            "544\n",
            "136\n",
            "544\n",
            "136\n"
          ]
        }
      ]
    },
    {
      "cell_type": "code",
      "source": [
        "# Detection: Label mapping: {0: 'Empty', 1: 'Human'}\n",
        "print('Total 0 training labels: ', np.count_nonzero(train_labels_DT == 0))\n",
        "print('Total 1 training labels: ', np.count_nonzero(train_labels_DT == 1))\n",
        "\n",
        "print('Total 0 testing labels: ', np.count_nonzero(test_labels_DT == 0))\n",
        "print('Total 1 testing labels: ', np.count_nonzero(test_labels_DT == 1))"
      ],
      "metadata": {
        "colab": {
          "base_uri": "https://localhost:8080/"
        },
        "id": "bLqFjdRcv10i",
        "outputId": "58a98f3b-3530-4535-8596-388998477249"
      },
      "execution_count": null,
      "outputs": [
        {
          "output_type": "stream",
          "name": "stdout",
          "text": [
            "Total 0 training labels:  189\n",
            "Total 1 training labels:  355\n",
            "Total 0 testing labels:  59\n",
            "Total 1 testing labels:  77\n"
          ]
        }
      ]
    },
    {
      "cell_type": "code",
      "source": [
        "# Localization: Label mapping: {0: 'Empty', 1: 'Human in zone 1', 2: 'Human in zone 2'}\n",
        "for i in range(len(np.unique(train_labels_LC))):\n",
        "  print('Total ', i, ' training labels: ', np.count_nonzero(train_labels_LC == i))\n",
        "\n",
        "for i in range(len(np.unique(test_labels_LC))):\n",
        "  print('Total ', i, ' testing labels: ', np.count_nonzero(test_labels_LC == i))"
      ],
      "metadata": {
        "colab": {
          "base_uri": "https://localhost:8080/"
        },
        "id": "8XVLEC5mBKEd",
        "outputId": "f5a9b658-7b36-4447-a09d-bd3e77118e73"
      },
      "execution_count": null,
      "outputs": [
        {
          "output_type": "stream",
          "name": "stdout",
          "text": [
            "Total  0  training labels:  189\n",
            "Total  1  training labels:  170\n",
            "Total  2  training labels:  185\n",
            "Total  0  testing labels:  59\n",
            "Total  1  testing labels:  46\n",
            "Total  2  testing labels:  31\n"
          ]
        }
      ]
    },
    {
      "cell_type": "markdown",
      "source": [
        "# Threshold Algorithm"
      ],
      "metadata": {
        "id": "CxOLy3uXswvR"
      }
    },
    {
      "cell_type": "code",
      "source": [
        "from sklearn import preprocessing"
      ],
      "metadata": {
        "id": "f4qaPABk5Lhl"
      },
      "execution_count": null,
      "outputs": []
    },
    {
      "cell_type": "code",
      "source": [
        "# Get data\n",
        "detection_data = np.array(samples_temp_1)\n",
        "detection_label = np.array(labels_temp_1)"
      ],
      "metadata": {
        "id": "Sa3Jki-Isz8w"
      },
      "execution_count": null,
      "outputs": []
    },
    {
      "cell_type": "code",
      "source": [
        "# Calculating empty data threshold\n",
        "empty_thresh = 0\n",
        "for i in range(len(detection_label)):\n",
        "  diff_val = np.max(detection_data[i]) - np.min(detection_data[i])\n",
        "  if (detection_label[i] == 0):\n",
        "    empty_thresh += diff_val\n",
        "empty_thresh = empty_thresh / np.count_nonzero(detection_label == 0)\n",
        "print(empty_thresh)"
      ],
      "metadata": {
        "colab": {
          "base_uri": "https://localhost:8080/"
        },
        "id": "0R2evyihy4iV",
        "outputId": "ea6375d7-0487-48d1-fb9e-67585024f2e2"
      },
      "execution_count": null,
      "outputs": [
        {
          "output_type": "stream",
          "name": "stdout",
          "text": [
            "0.23388667644992953\n"
          ]
        }
      ]
    },
    {
      "cell_type": "code",
      "source": [
        "temp_calc = []\n",
        "for i in range(len(detection_label)):\n",
        "  diff_val = np.max(detection_data[i]) - np.min(detection_data[i])\n",
        "  if (diff_val > empty_thresh):\n",
        "    temp_calc.append(1)\n",
        "  else:\n",
        "    temp_calc.append(0)"
      ],
      "metadata": {
        "id": "Sym4i0Y7wLFH"
      },
      "execution_count": null,
      "outputs": []
    },
    {
      "cell_type": "code",
      "source": [
        "detection_calc = np.array(temp_calc)"
      ],
      "metadata": {
        "id": "yKJxIyGA2buU"
      },
      "execution_count": null,
      "outputs": []
    },
    {
      "cell_type": "markdown",
      "source": [
        "# Building Deep Learning model"
      ],
      "metadata": {
        "id": "0nwTaIJ2JUkf"
      }
    },
    {
      "cell_type": "code",
      "source": [
        "import tensorflow as tf\n",
        "from tensorflow import keras\n",
        "from tensorflow.keras.models import Sequential\n",
        "from tensorflow.keras.layers import Activation, Dense, Flatten, InputLayer\n",
        "from tensorflow.keras.optimizers import Nadam\n",
        "from tensorflow.keras.metrics import categorical_crossentropy"
      ],
      "metadata": {
        "id": "_CVhaCJxJa5r"
      },
      "execution_count": null,
      "outputs": []
    },
    {
      "cell_type": "code",
      "source": [
        "# Utilizing GPU for training\n",
        "physical_devices = tf.config.experimental.list_physical_devices('GPU')\n",
        "print(\"Num GPUs Available: \", len(physical_devices))\n",
        "if (len(physical_devices) > 0):\n",
        "    tf.config.experimental.set_memory_growth(physical_devices[0], True)"
      ],
      "metadata": {
        "id": "XQQtMBSfJT_I",
        "colab": {
          "base_uri": "https://localhost:8080/"
        },
        "outputId": "65b7a050-e644-4cf8-9d6c-c034574177f7"
      },
      "execution_count": null,
      "outputs": [
        {
          "output_type": "stream",
          "name": "stdout",
          "text": [
            "Num GPUs Available:  0\n"
          ]
        }
      ]
    },
    {
      "cell_type": "code",
      "source": [
        "# Clear all model sessions\n",
        "tf.keras.backend.clear_session()"
      ],
      "metadata": {
        "id": "VvdA6gey1Dtv"
      },
      "execution_count": null,
      "outputs": []
    },
    {
      "cell_type": "markdown",
      "source": [
        "## Detection model"
      ],
      "metadata": {
        "id": "oMgtRsdlFMv3"
      }
    },
    {
      "cell_type": "code",
      "source": [
        "model = Sequential([\n",
        "    InputLayer(input_shape=(input_size)),\n",
        "    Dense(units=16, activation='relu'),\n",
        "    Dense(units=32, activation='relu'),\n",
        "    Flatten(),\n",
        "    Dense(units=2, activation='softmax')\n",
        "])\n",
        "model.summary()"
      ],
      "metadata": {
        "id": "xYEnGkabJhmt",
        "colab": {
          "base_uri": "https://localhost:8080/"
        },
        "outputId": "7ba3e9ce-bff1-4047-ebee-ab90d3509e37"
      },
      "execution_count": null,
      "outputs": [
        {
          "output_type": "stream",
          "name": "stdout",
          "text": [
            "Model: \"sequential\"\n",
            "_________________________________________________________________\n",
            " Layer (type)                Output Shape              Param #   \n",
            "=================================================================\n",
            " dense (Dense)               (None, 256, 16)           848       \n",
            "                                                                 \n",
            " dense_1 (Dense)             (None, 256, 32)           544       \n",
            "                                                                 \n",
            " flatten (Flatten)           (None, 8192)              0         \n",
            "                                                                 \n",
            " dense_2 (Dense)             (None, 2)                 16386     \n",
            "                                                                 \n",
            "=================================================================\n",
            "Total params: 17,778\n",
            "Trainable params: 17,778\n",
            "Non-trainable params: 0\n",
            "_________________________________________________________________\n"
          ]
        }
      ]
    },
    {
      "cell_type": "code",
      "source": [
        "model.compile(optimizer=Nadam(learning_rate=0.001), loss='sparse_categorical_crossentropy', metrics=['accuracy'])"
      ],
      "metadata": {
        "id": "eEoivvTYJl3B"
      },
      "execution_count": null,
      "outputs": []
    },
    {
      "cell_type": "code",
      "source": [
        "model.fit(\n",
        "      x=train_samples_DT\n",
        "    , y=train_labels_DT\n",
        "    , validation_split=0.2 # takes 20% of training data to put as validation data\n",
        "    , batch_size=5\n",
        "    , epochs=30\n",
        "    , verbose=2\n",
        ")"
      ],
      "metadata": {
        "id": "1LXFQo_ZJm6Q",
        "colab": {
          "base_uri": "https://localhost:8080/"
        },
        "outputId": "c8c1158c-bcb4-474d-ec7f-067895f96d6b"
      },
      "execution_count": null,
      "outputs": [
        {
          "output_type": "stream",
          "name": "stdout",
          "text": [
            "Epoch 1/30\n",
            "87/87 - 2s - loss: 0.6796 - accuracy: 0.6299 - val_loss: 0.6565 - val_accuracy: 0.6147 - 2s/epoch - 18ms/step\n",
            "Epoch 2/30\n",
            "87/87 - 0s - loss: 0.6422 - accuracy: 0.6529 - val_loss: 0.6885 - val_accuracy: 0.6147 - 288ms/epoch - 3ms/step\n",
            "Epoch 3/30\n",
            "87/87 - 0s - loss: 0.6085 - accuracy: 0.6644 - val_loss: 0.7258 - val_accuracy: 0.6147 - 250ms/epoch - 3ms/step\n",
            "Epoch 4/30\n",
            "87/87 - 0s - loss: 0.5723 - accuracy: 0.6506 - val_loss: 0.5617 - val_accuracy: 0.6147 - 258ms/epoch - 3ms/step\n",
            "Epoch 5/30\n",
            "87/87 - 0s - loss: 0.5333 - accuracy: 0.6897 - val_loss: 0.5150 - val_accuracy: 0.6147 - 289ms/epoch - 3ms/step\n",
            "Epoch 6/30\n",
            "87/87 - 0s - loss: 0.5109 - accuracy: 0.7379 - val_loss: 0.5964 - val_accuracy: 0.5229 - 286ms/epoch - 3ms/step\n",
            "Epoch 7/30\n",
            "87/87 - 0s - loss: 0.4831 - accuracy: 0.7609 - val_loss: 0.4466 - val_accuracy: 0.7982 - 290ms/epoch - 3ms/step\n",
            "Epoch 8/30\n",
            "87/87 - 0s - loss: 0.4627 - accuracy: 0.7517 - val_loss: 0.4624 - val_accuracy: 0.7890 - 255ms/epoch - 3ms/step\n",
            "Epoch 9/30\n",
            "87/87 - 0s - loss: 0.4379 - accuracy: 0.7747 - val_loss: 0.5471 - val_accuracy: 0.5596 - 285ms/epoch - 3ms/step\n",
            "Epoch 10/30\n",
            "87/87 - 0s - loss: 0.4149 - accuracy: 0.8023 - val_loss: 0.4315 - val_accuracy: 0.7982 - 274ms/epoch - 3ms/step\n",
            "Epoch 11/30\n",
            "87/87 - 0s - loss: 0.3853 - accuracy: 0.8138 - val_loss: 0.4212 - val_accuracy: 0.8073 - 248ms/epoch - 3ms/step\n",
            "Epoch 12/30\n",
            "87/87 - 0s - loss: 0.4295 - accuracy: 0.7724 - val_loss: 0.4282 - val_accuracy: 0.8257 - 250ms/epoch - 3ms/step\n",
            "Epoch 13/30\n",
            "87/87 - 0s - loss: 0.3979 - accuracy: 0.8023 - val_loss: 0.4058 - val_accuracy: 0.7982 - 241ms/epoch - 3ms/step\n",
            "Epoch 14/30\n",
            "87/87 - 0s - loss: 0.3880 - accuracy: 0.8207 - val_loss: 0.3841 - val_accuracy: 0.7798 - 255ms/epoch - 3ms/step\n",
            "Epoch 15/30\n",
            "87/87 - 0s - loss: 0.3820 - accuracy: 0.7862 - val_loss: 0.4599 - val_accuracy: 0.7523 - 253ms/epoch - 3ms/step\n",
            "Epoch 16/30\n",
            "87/87 - 0s - loss: 0.3660 - accuracy: 0.8092 - val_loss: 0.4143 - val_accuracy: 0.7798 - 252ms/epoch - 3ms/step\n",
            "Epoch 17/30\n",
            "87/87 - 0s - loss: 0.3843 - accuracy: 0.7954 - val_loss: 0.3933 - val_accuracy: 0.7615 - 283ms/epoch - 3ms/step\n",
            "Epoch 18/30\n",
            "87/87 - 0s - loss: 0.3639 - accuracy: 0.8115 - val_loss: 0.4616 - val_accuracy: 0.7523 - 277ms/epoch - 3ms/step\n",
            "Epoch 19/30\n",
            "87/87 - 0s - loss: 0.3622 - accuracy: 0.8092 - val_loss: 0.3761 - val_accuracy: 0.8165 - 244ms/epoch - 3ms/step\n",
            "Epoch 20/30\n",
            "87/87 - 0s - loss: 0.3603 - accuracy: 0.8299 - val_loss: 0.3866 - val_accuracy: 0.7982 - 257ms/epoch - 3ms/step\n",
            "Epoch 21/30\n",
            "87/87 - 0s - loss: 0.3554 - accuracy: 0.8460 - val_loss: 0.3806 - val_accuracy: 0.7890 - 251ms/epoch - 3ms/step\n",
            "Epoch 22/30\n",
            "87/87 - 0s - loss: 0.3506 - accuracy: 0.8207 - val_loss: 0.3645 - val_accuracy: 0.8349 - 259ms/epoch - 3ms/step\n",
            "Epoch 23/30\n",
            "87/87 - 0s - loss: 0.3401 - accuracy: 0.8184 - val_loss: 0.3612 - val_accuracy: 0.8165 - 240ms/epoch - 3ms/step\n",
            "Epoch 24/30\n",
            "87/87 - 0s - loss: 0.3429 - accuracy: 0.8368 - val_loss: 0.5246 - val_accuracy: 0.8073 - 261ms/epoch - 3ms/step\n",
            "Epoch 25/30\n",
            "87/87 - 0s - loss: 0.3537 - accuracy: 0.8184 - val_loss: 0.3602 - val_accuracy: 0.8349 - 257ms/epoch - 3ms/step\n",
            "Epoch 26/30\n",
            "87/87 - 0s - loss: 0.3421 - accuracy: 0.8253 - val_loss: 0.3955 - val_accuracy: 0.7982 - 286ms/epoch - 3ms/step\n",
            "Epoch 27/30\n",
            "87/87 - 0s - loss: 0.3284 - accuracy: 0.8414 - val_loss: 0.3585 - val_accuracy: 0.8440 - 260ms/epoch - 3ms/step\n",
            "Epoch 28/30\n",
            "87/87 - 0s - loss: 0.3327 - accuracy: 0.8437 - val_loss: 0.3991 - val_accuracy: 0.8073 - 274ms/epoch - 3ms/step\n",
            "Epoch 29/30\n",
            "87/87 - 0s - loss: 0.3659 - accuracy: 0.8322 - val_loss: 0.3901 - val_accuracy: 0.7890 - 246ms/epoch - 3ms/step\n",
            "Epoch 30/30\n",
            "87/87 - 0s - loss: 0.3332 - accuracy: 0.8414 - val_loss: 0.3662 - val_accuracy: 0.8165 - 280ms/epoch - 3ms/step\n"
          ]
        },
        {
          "output_type": "execute_result",
          "data": {
            "text/plain": [
              "<keras.callbacks.History at 0x7fcc371ea950>"
            ]
          },
          "metadata": {},
          "execution_count": 34
        }
      ]
    },
    {
      "cell_type": "markdown",
      "source": [
        "## Localization model"
      ],
      "metadata": {
        "id": "XtFLQD71_XL0"
      }
    },
    {
      "cell_type": "code",
      "source": [
        "model_2 = Sequential([\n",
        "    InputLayer(input_shape=(input_size)),\n",
        "    Dense(units=8, activation='relu'),\n",
        "    Dense(units=16, activation='relu'),\n",
        "    Dense(units=32, activation='relu'),\n",
        "    Flatten(),\n",
        "    Dense(units=len(np.unique(test_labels_LC)), activation='softmax')             \n",
        "])\n",
        "model_2.summary()"
      ],
      "metadata": {
        "id": "STPwFqWD99qI",
        "colab": {
          "base_uri": "https://localhost:8080/"
        },
        "outputId": "76f4d113-057e-44b2-f8a4-da8e75bfb412"
      },
      "execution_count": null,
      "outputs": [
        {
          "output_type": "stream",
          "name": "stdout",
          "text": [
            "Model: \"sequential_1\"\n",
            "_________________________________________________________________\n",
            " Layer (type)                Output Shape              Param #   \n",
            "=================================================================\n",
            " dense_3 (Dense)             (None, 256, 8)            424       \n",
            "                                                                 \n",
            " dense_4 (Dense)             (None, 256, 16)           144       \n",
            "                                                                 \n",
            " dense_5 (Dense)             (None, 256, 32)           544       \n",
            "                                                                 \n",
            " flatten_1 (Flatten)         (None, 8192)              0         \n",
            "                                                                 \n",
            " dense_6 (Dense)             (None, 3)                 24579     \n",
            "                                                                 \n",
            "=================================================================\n",
            "Total params: 25,691\n",
            "Trainable params: 25,691\n",
            "Non-trainable params: 0\n",
            "_________________________________________________________________\n"
          ]
        }
      ]
    },
    {
      "cell_type": "code",
      "source": [
        "model_2.compile(optimizer=Nadam(learning_rate=0.001), loss='sparse_categorical_crossentropy', metrics=['accuracy'])"
      ],
      "metadata": {
        "id": "ZaTnaYgK_Spr"
      },
      "execution_count": null,
      "outputs": []
    },
    {
      "cell_type": "code",
      "source": [
        "model_2.fit(\n",
        "      x=train_samples_LC\n",
        "    , y=train_labels_LC\n",
        "    , validation_split=0.2 # takes 20% of training data to put as validation data. Remember to shuffle the data manually first\n",
        "    , batch_size=10\n",
        "    , epochs=40\n",
        "    , verbose=2\n",
        ")"
      ],
      "metadata": {
        "id": "poLjNDqs_c7L",
        "colab": {
          "base_uri": "https://localhost:8080/"
        },
        "outputId": "53634de3-3753-4c14-ad06-1df3de6e2eab"
      },
      "execution_count": null,
      "outputs": [
        {
          "output_type": "stream",
          "name": "stdout",
          "text": [
            "Epoch 1/40\n",
            "44/44 - 3s - loss: 1.1469 - accuracy: 0.3747 - val_loss: 1.2407 - val_accuracy: 0.3853 - 3s/epoch - 68ms/step\n",
            "Epoch 2/40\n",
            "44/44 - 0s - loss: 1.1015 - accuracy: 0.3333 - val_loss: 1.1386 - val_accuracy: 0.2752 - 360ms/epoch - 8ms/step\n",
            "Epoch 3/40\n",
            "44/44 - 0s - loss: 1.0762 - accuracy: 0.3931 - val_loss: 1.0809 - val_accuracy: 0.3761 - 342ms/epoch - 8ms/step\n",
            "Epoch 4/40\n",
            "44/44 - 0s - loss: 1.0586 - accuracy: 0.4437 - val_loss: 1.0718 - val_accuracy: 0.3303 - 356ms/epoch - 8ms/step\n",
            "Epoch 5/40\n",
            "44/44 - 0s - loss: 1.0043 - accuracy: 0.5080 - val_loss: 1.0295 - val_accuracy: 0.5872 - 378ms/epoch - 9ms/step\n",
            "Epoch 6/40\n",
            "44/44 - 0s - loss: 0.9513 - accuracy: 0.5517 - val_loss: 0.9804 - val_accuracy: 0.5780 - 319ms/epoch - 7ms/step\n",
            "Epoch 7/40\n",
            "44/44 - 0s - loss: 0.9163 - accuracy: 0.5908 - val_loss: 0.9717 - val_accuracy: 0.5505 - 423ms/epoch - 10ms/step\n",
            "Epoch 8/40\n",
            "44/44 - 0s - loss: 0.8786 - accuracy: 0.5931 - val_loss: 0.9642 - val_accuracy: 0.5963 - 377ms/epoch - 9ms/step\n",
            "Epoch 9/40\n",
            "44/44 - 0s - loss: 0.8511 - accuracy: 0.6230 - val_loss: 1.2023 - val_accuracy: 0.3670 - 432ms/epoch - 10ms/step\n",
            "Epoch 10/40\n",
            "44/44 - 0s - loss: 0.8198 - accuracy: 0.6299 - val_loss: 0.9136 - val_accuracy: 0.5688 - 430ms/epoch - 10ms/step\n",
            "Epoch 11/40\n",
            "44/44 - 0s - loss: 0.7963 - accuracy: 0.6391 - val_loss: 0.8616 - val_accuracy: 0.6055 - 432ms/epoch - 10ms/step\n",
            "Epoch 12/40\n",
            "44/44 - 0s - loss: 0.8132 - accuracy: 0.6322 - val_loss: 0.9557 - val_accuracy: 0.5138 - 479ms/epoch - 11ms/step\n",
            "Epoch 13/40\n",
            "44/44 - 0s - loss: 0.7740 - accuracy: 0.6483 - val_loss: 1.0308 - val_accuracy: 0.5505 - 394ms/epoch - 9ms/step\n",
            "Epoch 14/40\n",
            "44/44 - 0s - loss: 0.7754 - accuracy: 0.6644 - val_loss: 0.9526 - val_accuracy: 0.5413 - 336ms/epoch - 8ms/step\n",
            "Epoch 15/40\n",
            "44/44 - 0s - loss: 0.7535 - accuracy: 0.6529 - val_loss: 0.8770 - val_accuracy: 0.5688 - 326ms/epoch - 7ms/step\n",
            "Epoch 16/40\n",
            "44/44 - 0s - loss: 0.7509 - accuracy: 0.6667 - val_loss: 0.9992 - val_accuracy: 0.5413 - 321ms/epoch - 7ms/step\n",
            "Epoch 17/40\n",
            "44/44 - 0s - loss: 0.7980 - accuracy: 0.6437 - val_loss: 0.8389 - val_accuracy: 0.5963 - 361ms/epoch - 8ms/step\n",
            "Epoch 18/40\n",
            "44/44 - 0s - loss: 0.7506 - accuracy: 0.6690 - val_loss: 0.8934 - val_accuracy: 0.5688 - 390ms/epoch - 9ms/step\n",
            "Epoch 19/40\n",
            "44/44 - 0s - loss: 0.7648 - accuracy: 0.6529 - val_loss: 0.8915 - val_accuracy: 0.5872 - 331ms/epoch - 8ms/step\n",
            "Epoch 20/40\n",
            "44/44 - 0s - loss: 0.7449 - accuracy: 0.6966 - val_loss: 0.8673 - val_accuracy: 0.5780 - 352ms/epoch - 8ms/step\n",
            "Epoch 21/40\n",
            "44/44 - 0s - loss: 0.7185 - accuracy: 0.6874 - val_loss: 0.8205 - val_accuracy: 0.6147 - 402ms/epoch - 9ms/step\n",
            "Epoch 22/40\n",
            "44/44 - 0s - loss: 0.7400 - accuracy: 0.6736 - val_loss: 0.8092 - val_accuracy: 0.6147 - 444ms/epoch - 10ms/step\n",
            "Epoch 23/40\n",
            "44/44 - 0s - loss: 0.7225 - accuracy: 0.6851 - val_loss: 0.8540 - val_accuracy: 0.5872 - 426ms/epoch - 10ms/step\n",
            "Epoch 24/40\n",
            "44/44 - 0s - loss: 0.7060 - accuracy: 0.6805 - val_loss: 0.9237 - val_accuracy: 0.5413 - 384ms/epoch - 9ms/step\n",
            "Epoch 25/40\n",
            "44/44 - 0s - loss: 0.7141 - accuracy: 0.6736 - val_loss: 0.8236 - val_accuracy: 0.5780 - 252ms/epoch - 6ms/step\n",
            "Epoch 26/40\n",
            "44/44 - 0s - loss: 0.6866 - accuracy: 0.7034 - val_loss: 0.8168 - val_accuracy: 0.6239 - 199ms/epoch - 5ms/step\n",
            "Epoch 27/40\n",
            "44/44 - 0s - loss: 0.6906 - accuracy: 0.7103 - val_loss: 0.8351 - val_accuracy: 0.5872 - 203ms/epoch - 5ms/step\n",
            "Epoch 28/40\n",
            "44/44 - 0s - loss: 0.7064 - accuracy: 0.6897 - val_loss: 0.7679 - val_accuracy: 0.6697 - 196ms/epoch - 4ms/step\n",
            "Epoch 29/40\n",
            "44/44 - 0s - loss: 0.7009 - accuracy: 0.7011 - val_loss: 0.8763 - val_accuracy: 0.5963 - 245ms/epoch - 6ms/step\n",
            "Epoch 30/40\n",
            "44/44 - 0s - loss: 0.6853 - accuracy: 0.6989 - val_loss: 0.7707 - val_accuracy: 0.6422 - 206ms/epoch - 5ms/step\n",
            "Epoch 31/40\n",
            "44/44 - 0s - loss: 0.6840 - accuracy: 0.7034 - val_loss: 0.8008 - val_accuracy: 0.6330 - 197ms/epoch - 4ms/step\n",
            "Epoch 32/40\n",
            "44/44 - 0s - loss: 0.6901 - accuracy: 0.6874 - val_loss: 0.9084 - val_accuracy: 0.5688 - 199ms/epoch - 5ms/step\n",
            "Epoch 33/40\n",
            "44/44 - 0s - loss: 0.6944 - accuracy: 0.6966 - val_loss: 0.7911 - val_accuracy: 0.6422 - 197ms/epoch - 4ms/step\n",
            "Epoch 34/40\n",
            "44/44 - 0s - loss: 0.6688 - accuracy: 0.7195 - val_loss: 0.7771 - val_accuracy: 0.6422 - 193ms/epoch - 4ms/step\n",
            "Epoch 35/40\n",
            "44/44 - 0s - loss: 0.6644 - accuracy: 0.7218 - val_loss: 0.8609 - val_accuracy: 0.5688 - 269ms/epoch - 6ms/step\n",
            "Epoch 36/40\n",
            "44/44 - 0s - loss: 0.6862 - accuracy: 0.7034 - val_loss: 0.8270 - val_accuracy: 0.6055 - 196ms/epoch - 4ms/step\n",
            "Epoch 37/40\n",
            "44/44 - 0s - loss: 0.6938 - accuracy: 0.6943 - val_loss: 0.8257 - val_accuracy: 0.5872 - 197ms/epoch - 4ms/step\n",
            "Epoch 38/40\n",
            "44/44 - 0s - loss: 0.6535 - accuracy: 0.7057 - val_loss: 0.7442 - val_accuracy: 0.6789 - 190ms/epoch - 4ms/step\n",
            "Epoch 39/40\n",
            "44/44 - 0s - loss: 0.6786 - accuracy: 0.7172 - val_loss: 0.8571 - val_accuracy: 0.6147 - 193ms/epoch - 4ms/step\n",
            "Epoch 40/40\n",
            "44/44 - 0s - loss: 0.6653 - accuracy: 0.7126 - val_loss: 0.8129 - val_accuracy: 0.6330 - 206ms/epoch - 5ms/step\n"
          ]
        },
        {
          "output_type": "execute_result",
          "data": {
            "text/plain": [
              "<keras.callbacks.History at 0x7fcc371eae10>"
            ]
          },
          "metadata": {},
          "execution_count": 37
        }
      ]
    },
    {
      "cell_type": "markdown",
      "source": [
        "# Predicting"
      ],
      "metadata": {
        "id": "LlewRhOQ_bpg"
      }
    },
    {
      "cell_type": "code",
      "source": [
        "# Detection model prediction\n",
        "predictions_DT = model.predict(\n",
        "      x=test_samples_DT\n",
        "    , batch_size=1\n",
        "    , verbose=2\n",
        ")  \n",
        "\n",
        "# Rounding predictions values to map into confusion matrix\n",
        "rounded_predictions = np.argmax(predictions_DT, axis=-1)"
      ],
      "metadata": {
        "id": "um2sM0hxJ8iV",
        "colab": {
          "base_uri": "https://localhost:8080/"
        },
        "outputId": "a5f4b9e5-1ec2-4fb9-c2e2-d53c9099cdd7"
      },
      "execution_count": null,
      "outputs": [
        {
          "output_type": "stream",
          "name": "stdout",
          "text": [
            "136/136 - 0s - 244ms/epoch - 2ms/step\n"
          ]
        }
      ]
    },
    {
      "cell_type": "code",
      "source": [
        "# Localization model prediction\n",
        "predictions_LC = model_2.predict(\n",
        "      x=test_samples_LC\n",
        "    , batch_size=1\n",
        "    , verbose=2\n",
        ")\n",
        "\n",
        "# Rounding predictions values to map into confusion matrix\n",
        "rounded_predictions_2 = np.argmax(predictions_LC, axis=-1)"
      ],
      "metadata": {
        "colab": {
          "base_uri": "https://localhost:8080/"
        },
        "id": "jLzW0oiUAF_I",
        "outputId": "b38374e2-9fc8-4587-c3b3-6c9aa0103a95"
      },
      "execution_count": null,
      "outputs": [
        {
          "output_type": "stream",
          "name": "stdout",
          "text": [
            "136/136 - 0s - 371ms/epoch - 3ms/step\n"
          ]
        }
      ]
    },
    {
      "cell_type": "markdown",
      "source": [
        "# Visualizing result"
      ],
      "metadata": {
        "id": "c3FEwgnhJ_s7"
      }
    },
    {
      "cell_type": "markdown",
      "source": [
        "## Plot defition"
      ],
      "metadata": {
        "id": "BYmfviFgKF40"
      }
    },
    {
      "cell_type": "code",
      "source": [
        "%matplotlib inline\n",
        "from sklearn.metrics import confusion_matrix, accuracy_score\n",
        "import itertools\n",
        "import matplotlib.pyplot as plt"
      ],
      "metadata": {
        "id": "ZzWXce-zKBjJ"
      },
      "execution_count": null,
      "outputs": []
    },
    {
      "cell_type": "code",
      "source": [
        "def plot_confusion_matrix(cm, classes,\n",
        "                        normalize=False,\n",
        "                        title='Confusion matrix',\n",
        "                        cmap=plt.cm.Blues):\n",
        "    \"\"\"\n",
        "    This function prints and plots the confusion matrix.\n",
        "    Normalization can be applied by setting `normalize=True`.\n",
        "    \"\"\"\n",
        "    plt.imshow(cm, interpolation='nearest', cmap=cmap)\n",
        "    plt.title(title)\n",
        "    plt.colorbar()\n",
        "    tick_marks = np.arange(len(classes))\n",
        "    plt.xticks(tick_marks, classes, rotation=45)\n",
        "    plt.yticks(tick_marks, classes)\n",
        "\n",
        "    if normalize:\n",
        "        cm = cm.astype('float') / cm.sum(axis=1)[:, np.newaxis]\n",
        "        print(\"Normalized confusion matrix\")\n",
        "    else:\n",
        "        print('Confusion matrix, without normalization')\n",
        "\n",
        "    print(cm)\n",
        "\n",
        "    thresh = cm.max() / 2.\n",
        "    for i, j in itertools.product(range(cm.shape[0]), range(cm.shape[1])):\n",
        "        plt.text(j, i, cm[i, j],\n",
        "            horizontalalignment=\"center\",\n",
        "            color=\"white\" if cm[i, j] > thresh else \"black\")\n",
        "\n",
        "    plt.tight_layout()\n",
        "    plt.ylabel('True label')\n",
        "    plt.xlabel('Predicted label')"
      ],
      "metadata": {
        "id": "83TB7BMBKEAW"
      },
      "execution_count": null,
      "outputs": []
    },
    {
      "cell_type": "markdown",
      "source": [
        "## Confusion matrix"
      ],
      "metadata": {
        "id": "EFMLMPB4KIIn"
      }
    },
    {
      "cell_type": "code",
      "source": [
        "cm_plot_labels = ['Empty','Not Empty']\n",
        "cm = confusion_matrix(y_true=test_labels_DT, y_pred=rounded_predictions)\n",
        "plot_confusion_matrix(cm=cm, classes=cm_plot_labels, title='Confusion Matrix: MLP1')\n",
        "print(\"Accuracy: \", accuracy_score(test_labels_DT, rounded_predictions))\n",
        "print(\"Per class: \", cm.diagonal()/cm.sum(axis=1))"
      ],
      "metadata": {
        "id": "aImLEbbMKbBW",
        "colab": {
          "base_uri": "https://localhost:8080/",
          "height": 398
        },
        "outputId": "ab5b75ad-ec6f-47b7-a48f-6aa36e34a04c"
      },
      "execution_count": null,
      "outputs": [
        {
          "output_type": "stream",
          "name": "stdout",
          "text": [
            "Confusion matrix, without normalization\n",
            "[[59  0]\n",
            " [12 65]]\n",
            "Accuracy:  0.9117647058823529\n",
            "Per class:  [1.         0.84415584]\n"
          ]
        },
        {
          "output_type": "display_data",
          "data": {
            "text/plain": [
              "<Figure size 432x288 with 2 Axes>"
            ],
            "image/png": "[encoded data removed]"
          },
          "metadata": {
            "needs_background": "light"
          }
        }
      ]
    },
    {
      "cell_type": "code",
      "source": [
        "cm_plot_labels_2 = ['Empty','Area135', 'Area246']\n",
        "cm2 = confusion_matrix(y_true=test_labels_LC, y_pred=rounded_predictions_2)\n",
        "plot_confusion_matrix(cm=cm2, classes=cm_plot_labels_2, title='Confusion Matrix: MLP2')\n",
        "print(\"Accuracy: \", accuracy_score(test_labels_LC, rounded_predictions_2))\n",
        "print(\"Per class: \", cm2.diagonal()/cm2.sum(axis=1))"
      ],
      "metadata": {
        "colab": {
          "base_uri": "https://localhost:8080/",
          "height": 415
        },
        "id": "eZAQYm4rAWi6",
        "outputId": "e3970f28-b2b8-4674-ed39-7a774734f644"
      },
      "execution_count": null,
      "outputs": [
        {
          "output_type": "stream",
          "name": "stdout",
          "text": [
            "Confusion matrix, without normalization\n",
            "[[59  0  0]\n",
            " [10 17 19]\n",
            " [ 4  6 21]]\n",
            "Accuracy:  0.7132352941176471\n",
            "Per class:  [1.         0.36956522 0.67741935]\n"
          ]
        },
        {
          "output_type": "display_data",
          "data": {
            "text/plain": [
              "<Figure size 432x288 with 2 Axes>"
            ],
            "image/png": "[encoded data removed]"
          },
          "metadata": {
            "needs_background": "light"
          }
        }
      ]
    },
    {
      "cell_type": "code",
      "source": [
        "cm3_plot_labels = ['Empty','Not Empty']\n",
        "cm3 = confusion_matrix(y_true=detection_label, y_pred=detection_calc)\n",
        "plot_confusion_matrix(cm=cm3, classes=cm3_plot_labels, title='Confusion Matrix: Threshold Algorithm')\n",
        "print(\"Accuracy: \", accuracy_score(detection_label, detection_calc))\n",
        "print(\"Per class: \", cm3.diagonal()/cm3.sum(axis=1))"
      ],
      "metadata": {
        "colab": {
          "base_uri": "https://localhost:8080/",
          "height": 398
        },
        "id": "8vNftQBj9kxr",
        "outputId": "5c2a233a-f06d-4a54-d63a-3d4bff570d14"
      },
      "execution_count": null,
      "outputs": [
        {
          "output_type": "stream",
          "name": "stdout",
          "text": [
            "Confusion matrix, without normalization\n",
            "[[144 104]\n",
            " [ 10 422]]\n",
            "Accuracy:  0.8323529411764706\n",
            "Per class:  [0.58064516 0.97685185]\n"
          ]
        },
        {
          "output_type": "display_data",
          "data": {
            "text/plain": [
              "<Figure size 432x288 with 2 Axes>"
            ],
            "image/png": "[encoded data removed]"
          },
          "metadata": {
            "needs_background": "light"
          }
        }
      ]
    },
    {
      "cell_type": "markdown",
      "source": [
        "# Saving model"
      ],
      "metadata": {
        "id": "PNpdL9SghZB4"
      }
    },
    {
      "cell_type": "markdown",
      "source": [
        "## Model image"
      ],
      "metadata": {
        "id": "eJCssQxtjt_a"
      }
    },
    {
      "cell_type": "code",
      "source": [
        "from tensorflow.keras.utils import plot_model\n",
        "plot_model(model, to_file='model1.png', show_shapes=True, show_layer_activations=True, show_dtype=True)\n",
        "plot_model(model_2, to_file='model2.png', show_shapes=True, show_layer_activations=True, show_dtype=True)"
      ],
      "metadata": {
        "id": "PJFP7ulbhj8k"
      },
      "execution_count": null,
      "outputs": []
    },
    {
      "cell_type": "markdown",
      "source": [
        "## Trained model"
      ],
      "metadata": {
        "id": "Tsc7N4q_jvU3"
      }
    },
    {
      "cell_type": "code",
      "source": [
        "# Saving model\n",
        "model.save('./models/WirelessDt_MLP.h5')\n",
        "model_2.save('./models/WirelessDt_CNN1D.h5')"
      ],
      "metadata": {
        "id": "Mqnc45HDjtXs"
      },
      "execution_count": null,
      "outputs": []
    },
    {
      "cell_type": "markdown",
      "source": [
        "## Download files"
      ],
      "metadata": {
        "id": "eOQwlEqOPJEs"
      }
    },
    {
      "cell_type": "code",
      "source": [
        "from google.colab import files"
      ],
      "metadata": {
        "id": "Ou-yOe1YO-m0"
      },
      "execution_count": null,
      "outputs": []
    },
    {
      "cell_type": "code",
      "source": [
        "!zip -r WirelessDetection_DLModels.zip ./models\n",
        "files.download(\"./WirelessDetection_DLModels.zip\")"
      ],
      "metadata": {
        "colab": {
          "base_uri": "https://localhost:8080/",
          "height": 69
        },
        "id": "Q5a5p2E_PKSW",
        "outputId": "78d51d3f-cf23-49c7-aa09-33afd667fe8e"
      },
      "execution_count": null,
      "outputs": [
        {
          "output_type": "stream",
          "name": "stdout",
          "text": [
            "  adding: models/ (stored 0%)\n",
            "  adding: models/WirelessDt_CNN1D.h5 (deflated 29%)\n",
            "  adding: models/WirelessDt_MLP.h5 (deflated 35%)\n"
          ]
        },
        {
          "output_type": "display_data",
          "data": {
            "text/plain": [
              "<IPython.core.display.Javascript object>"
            ],
            "application/javascript": [
              "\n",
              "    async function download(id, filename, size) {\n",
              "      if (!google.colab.kernel.accessAllowed) {\n",
              "        return;\n",
              "      }\n",
              "      const div = document.createElement('div');\n",
              "      const label = document.createElement('label');\n",
              "      label.textContent = `Downloading \"${filename}\": `;\n",
              "      div.appendChild(label);\n",
              "      const progress = document.createElement('progress');\n",
              "      progress.max = size;\n",
              "      div.appendChild(progress);\n",
              "      document.body.appendChild(div);\n",
              "\n",
              "      const buffers = [];\n",
              "      let downloaded = 0;\n",
              "\n",
              "      const channel = await google.colab.kernel.comms.open(id);\n",
              "      // Send a message to notify the kernel that we're ready.\n",
              "      channel.send({})\n",
              "\n",
              "      for await (const message of channel.messages) {\n",
              "        // Send a message to notify the kernel that we're ready.\n",
              "        channel.send({})\n",
              "        if (message.buffers) {\n",
              "          for (const buffer of message.buffers) {\n",
              "            buffers.push(buffer);\n",
              "            downloaded += buffer.byteLength;\n",
              "            progress.value = downloaded;\n",
              "          }\n",
              "        }\n",
              "      }\n",
              "      const blob = new Blob(buffers, {type: 'application/binary'});\n",
              "      const a = document.createElement('a');\n",
              "      a.href = window.URL.createObjectURL(blob);\n",
              "      a.download = filename;\n",
              "      div.appendChild(a);\n",
              "      a.click();\n",
              "      div.remove();\n",
              "    }\n",
              "  "
            ]
          },
          "metadata": {}
        },
        {
          "output_type": "display_data",
          "data": {
            "text/plain": [
              "<IPython.core.display.Javascript object>"
            ],
            "application/javascript": [
              "download(\"download_c9adf979-39d2-4e5d-a835-61550eae3b07\", \"WirelessDetection_DLModels.zip\", 411586)"
            ]
          },
          "metadata": {}
        }
      ]
    }
  ]
}